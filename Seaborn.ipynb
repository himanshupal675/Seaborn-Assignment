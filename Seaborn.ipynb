{
 "cells": [
  {
   "cell_type": "markdown",
   "id": "a9e0f64b-02eb-4c8d-8b4c-c7819f2c3ba6",
   "metadata": {},
   "source": [
    "## Que 1: Name any five plots that we can plot using the Seaborn library. Also, state the uses of each plot."
   ]
  },
  {
   "cell_type": "markdown",
   "id": "0c37291d-1354-46f0-9f7a-250dec2738fb",
   "metadata": {},
   "source": [
    "Seaborn is a powerful Python data visualization library based on Matplotlib. It provides a high-level interface for drawing attractive and informative statistical graphics. Here are five types of plots that you can create using Seaborn, along with their typical uses:\n",
    "\n",
    "1. **Scatter Plot (`seaborn.scatterplot`):**\n",
    "   - **Use:** Display the relationship between two continuous variables.\n",
    "   - **Seaborn Function:** `seaborn.scatterplot(x, y, data=None, hue=None, size=None, style=None)`\n",
    "\n",
    "2. **Bar Plot (`seaborn.barplot`):**\n",
    "   - **Use:** Display the distribution of a categorical variable and compare the quantities associated with different categories.\n",
    "   - **Seaborn Function:** `seaborn.barplot(x, y, data=None, hue=None)`\n",
    "\n",
    "3. **Histogram (`seaborn.histplot`):**\n",
    "   - **Use:** Visualize the distribution of a single variable.\n",
    "   - **Seaborn Function:** `seaborn.histplot(data, x=None, kde=False)`\n",
    "\n",
    "4. **Box Plot (`seaborn.boxplot`):**\n",
    "   - **Use:** Display the distribution of a dataset across different categories or groups. It shows the median, quartiles, and potential outliers.\n",
    "   - **Seaborn Function:** `seaborn.boxplot(x, y, data=None, hue=None)`\n",
    "\n",
    "5. **Heatmap (`seaborn.heatmap`):**\n",
    "   - **Use:** Display a matrix dataset as a grid of colored squares, where each square's color represents the value in the corresponding cell.\n",
    "   - **Seaborn Function:** `seaborn.heatmap(data, annot=True, cmap='viridis')`\n"
   ]
  },
  {
   "cell_type": "markdown",
   "id": "a1ee0581-1f13-4140-935b-df73ef06b258",
   "metadata": {},
   "source": [
    "## Que 2: Load the \"fmri\" dataset using the load_dataset function of seaborn. Plot a line plot using x = \"timepoint\" and y = \"signal\" for different events and regions."
   ]
  },
  {
   "cell_type": "markdown",
   "id": "682ca543-0472-4427-9793-05f67b52736a",
   "metadata": {},
   "source": [
    "To load the \"fmri\" dataset and plot a line plot using Seaborn, you can follow these steps:\n",
    "\n",
    "```python\n",
    "import seaborn as sns\n",
    "import matplotlib.pyplot as plt\n",
    "\n",
    "# Load the \"fmri\" dataset\n",
    "fmri_data = sns.load_dataset(\"fmri\")\n",
    "\n",
    "# Plot a line plot using Seaborn\n",
    "sns.set(style=\"whitegrid\")  # Set the style for better appearance\n",
    "\n",
    "plt.figure(figsize=(10, 6))  # Adjust the figure size if needed\n",
    "\n",
    "# Line plot using \"timepoint\" on the x-axis, \"signal\" on the y-axis, hue=\"event\", and style=\"region\"\n",
    "sns.lineplot(x=\"timepoint\", y=\"signal\", hue=\"event\", style=\"region\", data=fmri_data)\n",
    "\n",
    "# Set the title and labels\n",
    "plt.title('Line Plot of Signal Over Time for Different Events and Regions')\n",
    "plt.xlabel('Timepoint')\n",
    "plt.ylabel('Signal')\n",
    "\n",
    "# Show the plot\n",
    "plt.show()\n",
    "```\n",
    "\n",
    "In this code:\n",
    "- `sns.load_dataset(\"fmri\")` loads the \"fmri\" dataset from Seaborn.\n",
    "- `sns.lineplot(x=\"timepoint\", y=\"signal\", hue=\"event\", style=\"region\", data=fmri_data)` creates a line plot with \"timepoint\" on the x-axis, \"signal\" on the y-axis, different colors for each \"event,\" and different line styles for each \"region.\"\n"
   ]
  },
  {
   "cell_type": "markdown",
   "id": "503844f8-dfa8-4dc4-8153-05f686963f5c",
   "metadata": {},
   "source": [
    "## Que 3: Load the \"titanic\" dataset using the load_dataset function of seaborn. Plot two box plots using x = 'pclass', y = 'age' and y = 'fare'."
   ]
  },
  {
   "cell_type": "code",
   "execution_count": null,
   "id": "c7cbef81-3f11-4860-a4e8-24ab9a1c96fb",
   "metadata": {},
   "outputs": [],
   "source": [
    "import seaborn as sns\n",
    "import matplotlib.pyplot as plt\n",
    "\n",
    "# Load the \"titanic\" dataset\n",
    "titanic_data = sns.load_dataset(\"titanic\")\n",
    "\n",
    "# Plot two box plots using Seaborn\n",
    "plt.figure(figsize=(12, 6))  # Adjust the figure size if needed\n",
    "\n",
    "# Box plot for 'age'\n",
    "plt.subplot(1, 2, 1)\n",
    "sns.boxplot(x='pclass', y='age', data=titanic_data)\n",
    "plt.title('Box Plot of Age by Pclass')\n",
    "\n",
    "# Box plot for 'fare'\n",
    "plt.subplot(1, 2, 2)\n",
    "sns.boxplot(x='pclass', y='fare', data=titanic_data)\n",
    "plt.title('Box Plot of Fare by Pclass')\n",
    "\n",
    "# Adjust layout for better appearance\n",
    "plt.tight_layout()\n",
    "\n",
    "# Show the plots\n",
    "plt.show()\n"
   ]
  },
  {
   "cell_type": "markdown",
   "id": "f51efb51-96a6-4fd1-b422-016262ac0aa9",
   "metadata": {},
   "source": [
    "## Que 4: Use the \"diamonds\" dataset from seaborn to plot a histogram for the 'price' column. Use the hue parameter for the 'cut' column of the diamonds dataset."
   ]
  },
  {
   "cell_type": "code",
   "execution_count": null,
   "id": "f696a91c-70c2-4e73-a681-9a289566d50d",
   "metadata": {},
   "outputs": [],
   "source": [
    "import seaborn as sns\n",
    "import matplotlib.pyplot as plt\n",
    "\n",
    "# Load the \"diamonds\" dataset\n",
    "diamonds_data = sns.load_dataset(\"diamonds\")\n",
    "\n",
    "# Plot a histogram with hue for 'cut'\n",
    "plt.figure(figsize=(10, 6))  # Adjust the figure size if needed\n",
    "\n",
    "sns.histplot(data=diamonds_data, x='price', hue='cut', multiple=\"stack\", bins=30, edgecolor='black')\n",
    "\n",
    "# Set the title and labels\n",
    "plt.title('Histogram of Diamond Prices with Hue for Cut')\n",
    "plt.xlabel('Price')\n",
    "plt.ylabel('Frequency')\n",
    "\n",
    "# Show the plot\n",
    "plt.show()\n"
   ]
  },
  {
   "cell_type": "markdown",
   "id": "8b2c30b1-1033-4308-89ee-22ed82aba28f",
   "metadata": {},
   "source": [
    "## Que 5: Use the \"iris\" dataset from seaborn to plot a pair plot. Use the hue parameter for the \"species\" column of the iris dataset."
   ]
  },
  {
   "cell_type": "markdown",
   "id": "1507d818-74b7-41bf-a920-be9cd70e930c",
   "metadata": {},
   "source": [
    "To plot a pair plot for the \"iris\" dataset from Seaborn and use the 'species' column as the hue parameter, you can follow these steps:\n",
    "\n",
    "```python\n",
    "import seaborn as sns\n",
    "import matplotlib.pyplot as plt\n",
    "\n",
    "# Load the \"iris\" dataset\n",
    "iris_data = sns.load_dataset(\"iris\")\n",
    "\n",
    "# Plot a pair plot with hue for 'species'\n",
    "sns.set(style=\"ticks\")  # Set the style for better appearance\n",
    "sns.pairplot(iris_data, hue=\"species\", markers=[\"o\", \"s\", \"D\"])\n",
    "\n",
    "# Set the title\n",
    "plt.suptitle('Pair Plot of Iris Dataset with Hue for Species', y=1.02)\n",
    "\n",
    "# Show the plot\n",
    "plt.show()\n",
    "```"
   ]
  },
  {
   "cell_type": "markdown",
   "id": "c2d259b5-4922-4143-ba46-fe93facedbb3",
   "metadata": {},
   "source": [
    "## Que 6: Use the \"flights\" dataset from seaborn to plot a heatmap."
   ]
  },
  {
   "cell_type": "code",
   "execution_count": null,
   "id": "1b0700f1-284c-4c18-a60f-df5256b9780f",
   "metadata": {},
   "outputs": [],
   "source": [
    "import seaborn as sns\n",
    "import matplotlib.pyplot as plt\n",
    "\n",
    "# Load the \"flights\" dataset\n",
    "flights_data = sns.load_dataset(\"flights\")\n",
    "\n",
    "# Pivot the data to create a matrix for the heatmap\n",
    "flights_pivot = flights_data.pivot_table(index='month', columns='year', values='passengers')\n",
    "\n",
    "# Plot a heatmap\n",
    "plt.figure(figsize=(10, 8))  # Adjust the figure size if needed\n",
    "sns.heatmap(flights_pivot, annot=True, cmap='viridis', fmt='d', linewidths=.5)\n",
    "\n",
    "# Set the title and labels\n",
    "plt.title('Heatmap of Flights Dataset')\n",
    "plt.xlabel('Year')\n",
    "plt.ylabel('Month')\n",
    "\n",
    "# Show the plot\n",
    "plt.show()\n"
   ]
  }
 ],
 "metadata": {
  "kernelspec": {
   "display_name": "Python 3 (ipykernel)",
   "language": "python",
   "name": "python3"
  },
  "language_info": {
   "codemirror_mode": {
    "name": "ipython",
    "version": 3
   },
   "file_extension": ".py",
   "mimetype": "text/x-python",
   "name": "python",
   "nbconvert_exporter": "python",
   "pygments_lexer": "ipython3",
   "version": "3.10.8"
  }
 },
 "nbformat": 4,
 "nbformat_minor": 5
}
